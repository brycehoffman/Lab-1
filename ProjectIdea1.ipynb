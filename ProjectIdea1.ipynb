{
  "nbformat": 4,
  "nbformat_minor": 0,
  "metadata": {
    "colab": {
      "name": "ProjectIdea1.ipynb",
      "provenance": [],
      "toc_visible": true,
      "authorship_tag": "ABX9TyPY3yxZD6rTwUvlhoxpF8wb",
      "include_colab_link": true
    },
    "kernelspec": {
      "name": "python3",
      "display_name": "Python 3"
    }
  },
  "cells": [
    {
      "cell_type": "markdown",
      "metadata": {
        "id": "view-in-github",
        "colab_type": "text"
      },
      "source": [
        "<a href=\"https://colab.research.google.com/github/brycehoffman/Lab-1/blob/master/ProjectIdea1.ipynb\" target=\"_parent\"><img src=\"https://colab.research.google.com/assets/colab-badge.svg\" alt=\"Open In Colab\"/></a>"
      ]
    },
    {
      "cell_type": "markdown",
      "metadata": {
        "id": "Jgx2NOoeQ47C",
        "colab_type": "text"
      },
      "source": [
        "### Temperature Max Comparison"
      ]
    },
    {
      "cell_type": "markdown",
      "metadata": {
        "id": "3fx7OF_5Q-f4",
        "colab_type": "text"
      },
      "source": [
        "#### Brief Outline\n",
        "After reviewing the sample date given for the project I analyzed and reviewed the data. After reviewing the years of collected weather data in State College I am going to do a data comparison of the maximum temperature. The data comparison of the maximum temperature will be taken from a select range of dates and then will be compared to each year."
      ]
    },
    {
      "cell_type": "markdown",
      "metadata": {
        "id": "UkKDQOnUREDk",
        "colab_type": "text"
      },
      "source": [
        "![Project 1 idea](https://raw.githubusercontent.com/brycehoffman/Lab-1/master/images/graph%20268.jpg)"
      ]
    },
    {
      "cell_type": "markdown",
      "metadata": {
        "id": "K4ShdOebUP7n",
        "colab_type": "text"
      },
      "source": [
        "##### Conclusions\n",
        "The picture above includes a brief minimal sketch of my project idea of comparing the maximum temperature. In the sketch I provided I did a range of 3 days and compared it to over two years. In reality the actual graph would be a larger group of selected range of dates and compared over multiple years instead of only 2."
      ]
    }
  ]
}